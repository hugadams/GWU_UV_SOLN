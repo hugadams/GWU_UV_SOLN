{
 "metadata": {
  "name": "7 21 Analysis"
 },
 "nbformat": 3,
 "nbformat_minor": 0,
 "worksheets": [
  {
   "cells": [
    {
     "cell_type": "heading",
     "level": 1,
     "metadata": {},
     "source": [
      "7_21 Analysis: Quantifying NP binding on gold nanoparticles of various coatings"
     ]
    },
    {
     "cell_type": "markdown",
     "metadata": {},
     "source": [
      "<h3 style=\"color:blue\">Step 1<h3> Read in the data to pandas.  Data was saved intentionally so that sorting would automatically yield: baseline, np's, and then various time points after the addition of BSA.  Here are the run notes."
     ]
    },
    {
     "cell_type": "raw",
     "metadata": {},
     "source": [
      "Samples:\n",
      "\t-Made 2mM MHA and MUD by adding 3mg MUD/MHA to 7.3/5.2mL ethanol respectively (MW mud=204.4  mha=288.5)\n",
      "\t-Made .5mg/mL BSA\n",
      "\t-Made .5mL NP solutions of\n",
      "\t\tBare\n",
      "\t\tMHA\n",
      "\t\t2:1 MHA:MUD (50uL drops each time, no pipetter bias)\n",
      "\t\t1:1 MHA:MUD\n",
      "\t\t1:2 MHA:MUD\n",
      "\t\t1:4 MHA:MUD\n",
      "\n",
      "\t-Added 35uL of each above to 500uL NP solutions (made by cutting 1mL samples in half)\n",
      "\n",
      "Procedure:\n",
      "\t-Take baseline\n",
      "\t-Add np's\n",
      "\t-Add 100uL BSA with careful mixing (cf=19ug/mL)\n",
      "\t-Retake baselines periodically until they converge, time is not really important, but convergence is."
     ]
    },
    {
     "cell_type": "code",
     "collapsed": false,
     "input": [
      "from pandas import read_csv, DataFrame, Series\n",
      "from numpy import linspace\n",
      "from cookb_signalsmooth import smooth\n",
      "from scipy.integrate import simps\n",
      "import sys\n",
      "import matplotlib as plt\n",
      "from pyuvvis.pandas_utils import dr_reader\n",
      "\n",
      "filename='Concatenated_data/bsa_all.csv'\n",
      "data=read_csv(filename, sep='\\t', header=0, index_col=0)\n",
      "rows=data.index"
     ],
     "language": "python",
     "metadata": {},
     "outputs": [],
     "prompt_number": 2
    },
    {
     "cell_type": "markdown",
     "metadata": {},
     "source": [
      "<h3 style=\"color:blue\">Step 2<h3> Verify sorting looks ok, reindex data."
     ]
    },
    {
     "cell_type": "code",
     "collapsed": false,
     "input": [
      "cols_sorted=sorted(list(data.columns.values))\n",
      "cols_sorted"
     ],
     "language": "python",
     "metadata": {},
     "outputs": [
      {
       "output_type": "pyout",
       "prompt_number": 3,
       "text": [
        "['1_baseline.txt',\n",
        " '1_nps.txt',\n",
        " '1_sample_1.txt',\n",
        " '1_sample_2.txt',\n",
        " '1_sample_3.txt',\n",
        " '1_sample_4.txt']"
       ]
      }
     ],
     "prompt_number": 3
    },
    {
     "cell_type": "markdown",
     "metadata": {},
     "source": [
      "Reindex data"
     ]
    },
    {
     "cell_type": "code",
     "collapsed": false,
     "input": [
      "data=data.reindex(columns=cols_sorted) #Renaming is necessary"
     ],
     "language": "python",
     "metadata": {},
     "outputs": [],
     "prompt_number": 4
    },
    {
     "cell_type": "markdown",
     "metadata": {},
     "source": [
      "<h3 style=\"color:blue\">Step 3<h3> Subtract out baseline, and pop from set"
     ]
    },
    {
     "cell_type": "code",
     "collapsed": true,
     "input": [
      "baseline='1_baseline.txt' #May also want to just identify by index 0 to avoid rediting"
     ],
     "language": "python",
     "metadata": {},
     "outputs": [],
     "prompt_number": 5
    },
    {
     "cell_type": "code",
     "collapsed": false,
     "input": [
      "for entry in data:\n",
      "    data[entry]=data[entry]-data[baseline]"
     ],
     "language": "python",
     "metadata": {},
     "outputs": [],
     "prompt_number": 6
    },
    {
     "cell_type": "code",
     "collapsed": false,
     "input": [
      "data.pop(baseline)"
     ],
     "language": "python",
     "metadata": {},
     "outputs": [
      {
       "output_type": "pyout",
       "prompt_number": 7,
       "text": [
        "wavenumber\n",
        "400.0         0\n",
        "400.5         0\n",
        "401.0         0\n",
        "401.5         0\n",
        "402.0         0\n",
        "402.5         0\n",
        "403.0         0\n",
        "403.5         0\n",
        "404.0         0\n",
        "404.5         0\n",
        "405.0         0\n",
        "405.5         0\n",
        "406.0         0\n",
        "406.5         0\n",
        "407.0         0\n",
        "...\n",
        "793.0         0\n",
        "793.5         0\n",
        "794.0         0\n",
        "794.5         0\n",
        "795.0         0\n",
        "795.5         0\n",
        "796.0         0\n",
        "796.5         0\n",
        "797.0         0\n",
        "797.5         0\n",
        "798.0         0\n",
        "798.5         0\n",
        "799.0         0\n",
        "799.5         0\n",
        "800.0         0\n",
        "Name: 1_baseline.txt, Length: 801"
       ]
      }
     ],
     "prompt_number": 7
    },
    {
     "cell_type": "markdown",
     "metadata": {},
     "source": [
      "Apply a smooth curve to the short wavelength region of the pre-bsa sample and then scale to the inflection point.  **Note that we are doing this automatically rather than choosing a fixed wavelength (eg $lambda$=440nm) to see if this varies between experiments.  I assume it lands between 420 and 460.**"
     ]
    },
    {
     "cell_type": "code",
     "collapsed": false,
     "input": [
      "col0=data.columns[0]\n",
      "short=data[col0].ix[400.0:480.0]\n",
      "smoothed_values=smooth(short.values, window_len=20, window='flat')  #Method is built to handle numpy arrays not dataframes, so I have to manually pass values and reconstruct the frame\n",
      "smooth_sub=Series(smoothed_values, index=short.index) #Series prevents attribute resetting using s1.values=s2 for example, so have to recreate\n",
      "\n",
      "fig, ax1 = plt.subplots(1, figsize=(16,12))  #This is quick command to define subplot layout\n",
      "ax1.plot(smooth_sub.index.values, smooth_sub, color='red'); ax1.plot(short.index.values, short, alpha=0.5)\n"
     ],
     "language": "python",
     "metadata": {},
     "outputs": [
      {
       "ename": "AttributeError",
       "evalue": "'module' object has no attribute 'subplots'",
       "output_type": "pyerr",
       "traceback": [
        "\u001b[1;31m---------------------------------------------------------------------------\u001b[0m\n\u001b[1;31mAttributeError\u001b[0m                            Traceback (most recent call last)",
        "\u001b[1;32m<ipython-input-8-3c6fcc89c46f>\u001b[0m in \u001b[0;36m<module>\u001b[1;34m()\u001b[0m\n\u001b[0;32m      4\u001b[0m \u001b[0msmooth_sub\u001b[0m\u001b[1;33m=\u001b[0m\u001b[0mSeries\u001b[0m\u001b[1;33m(\u001b[0m\u001b[0msmoothed_values\u001b[0m\u001b[1;33m,\u001b[0m \u001b[0mindex\u001b[0m\u001b[1;33m=\u001b[0m\u001b[0mshort\u001b[0m\u001b[1;33m.\u001b[0m\u001b[0mindex\u001b[0m\u001b[1;33m)\u001b[0m \u001b[1;31m#Series prevents attribute resetting using s1.values=s2 for example, so have to recreate\u001b[0m\u001b[1;33m\u001b[0m\u001b[0m\n\u001b[0;32m      5\u001b[0m \u001b[1;33m\u001b[0m\u001b[0m\n\u001b[1;32m----> 6\u001b[1;33m \u001b[0mfig\u001b[0m\u001b[1;33m,\u001b[0m \u001b[0max1\u001b[0m \u001b[1;33m=\u001b[0m \u001b[0mplt\u001b[0m\u001b[1;33m.\u001b[0m\u001b[0msubplots\u001b[0m\u001b[1;33m(\u001b[0m\u001b[1;36m1\u001b[0m\u001b[1;33m,\u001b[0m \u001b[0mfigsize\u001b[0m\u001b[1;33m=\u001b[0m\u001b[1;33m(\u001b[0m\u001b[1;36m16\u001b[0m\u001b[1;33m,\u001b[0m\u001b[1;36m12\u001b[0m\u001b[1;33m)\u001b[0m\u001b[1;33m)\u001b[0m  \u001b[1;31m#This is quick command to define subplot layout\u001b[0m\u001b[1;33m\u001b[0m\u001b[0m\n\u001b[0m\u001b[0;32m      7\u001b[0m \u001b[0max1\u001b[0m\u001b[1;33m.\u001b[0m\u001b[0mplot\u001b[0m\u001b[1;33m(\u001b[0m\u001b[0msmooth_sub\u001b[0m\u001b[1;33m.\u001b[0m\u001b[0mindex\u001b[0m\u001b[1;33m.\u001b[0m\u001b[0mvalues\u001b[0m\u001b[1;33m,\u001b[0m \u001b[0msmooth_sub\u001b[0m\u001b[1;33m,\u001b[0m \u001b[0mcolor\u001b[0m\u001b[1;33m=\u001b[0m\u001b[1;34m'red'\u001b[0m\u001b[1;33m)\u001b[0m\u001b[1;33m;\u001b[0m \u001b[0max1\u001b[0m\u001b[1;33m.\u001b[0m\u001b[0mplot\u001b[0m\u001b[1;33m(\u001b[0m\u001b[0mshort\u001b[0m\u001b[1;33m.\u001b[0m\u001b[0mindex\u001b[0m\u001b[1;33m.\u001b[0m\u001b[0mvalues\u001b[0m\u001b[1;33m,\u001b[0m \u001b[0mshort\u001b[0m\u001b[1;33m,\u001b[0m \u001b[0malpha\u001b[0m\u001b[1;33m=\u001b[0m\u001b[1;36m0.5\u001b[0m\u001b[1;33m)\u001b[0m\u001b[1;33m\u001b[0m\u001b[0m\n",
        "\u001b[1;31mAttributeError\u001b[0m: 'module' object has no attribute 'subplots'"
       ]
      }
     ],
     "prompt_number": 8
    },
    {
     "cell_type": "code",
     "collapsed": false,
     "input": [
      "xmin=smooth_sub.index[smooth_sub.argmin()]  #row index for min value in smoothed curve\n",
      "ymin=smooth_sub.get_value(xmin)\n",
      "print 'Min X at wavelength\\t', xmin, '\\tand Y=\\t', ymin"
     ],
     "language": "python",
     "metadata": {},
     "outputs": []
    },
    {
     "cell_type": "markdown",
     "metadata": {},
     "source": [
      "<h3 style=\"color:blue\">Step 4<h3> Average data via slice around smoothed minimum with left/right of +- 2.5nm box (This is the most flat region in the spectra)"
     ]
    },
    {
     "cell_type": "code",
     "collapsed": true,
     "input": [
      "box=2.5 #nm\n",
      "yslice=data.ix[xmin-box:xmin+box].mean(axis=0) #CAREFUL, ROW LABELS MUST BE FLOAT (435.0) AS OPPOSED TO (435) WHICH IS READ AS INDICIES"
     ],
     "language": "python",
     "metadata": {},
     "outputs": []
    },
    {
     "cell_type": "code",
     "collapsed": false,
     "input": [
      "yslice"
     ],
     "language": "python",
     "metadata": {},
     "outputs": []
    },
    {
     "cell_type": "markdown",
     "metadata": {},
     "source": [
      "<h3 style=\"color:blue\">Step 5<h3>  Scale data to a fixed value."
     ]
    },
    {
     "cell_type": "markdown",
     "metadata": {},
     "source": [
      "What I'm going to do now is arbitrarily scale all the curves so that they have an absorbance of 1 at 440 (aka scale the shortwavelength region to 1) <br/>\n",
      "$\\mbox{scale}_i=\\frac{1.0}{\\mbox{yslice}_i}$"
     ]
    },
    {
     "cell_type": "code",
     "collapsed": false,
     "input": [
      "data=data * (1.0 / yslice)"
     ],
     "language": "python",
     "metadata": {},
     "outputs": []
    },
    {
     "cell_type": "markdown",
     "metadata": {},
     "source": [
      "Zoom in on various regions of this plot and check out the behavior"
     ]
    },
    {
     "cell_type": "code",
     "collapsed": false,
     "input": [
      "short=data.ix[435.0:475.0]\n",
      "med=data.ix[510.0:540.0]\n",
      "high=data.ix[640.0:680.0]\n",
      "\n",
      "fig, ((ax1, ax2), (ax3, ax4)) = plt.subplots(2,2, figsize=(16,12))  #This is quick command to define subplot layout\n",
      "ax1.plot(data.index.values, data); ax2.plot(short.index.values, short)\n",
      "ax3.plot(med.index.values, med); ax4.plot(high.index.values, high) #Need to return x,y because not using .plot() routine\n",
      "ax1.legend(loc='upper right') #SYNTAX IS CORRECT ACCORDING TO AN EXAMPLE!"
     ],
     "language": "python",
     "metadata": {},
     "outputs": []
    },
    {
     "cell_type": "markdown",
     "metadata": {},
     "source": [
      "With the proper scaling, it's actually quite easy to see **two important things**:<br/><br/>\n",
      "   1.  The binding of BSA happens rapidly in free solution for these concentrations.<br/>\n",
      "   2.  The presence of BSA (on bare np's at least) affects wavelengths > 510nm (althought it's difficult to see the difference at large $\\lambda$).<br/><br/>\n",
      "To quantify this difference, I will simply divide the the last timepoint by the timepoint before BSA addition."
     ]
    },
    {
     "cell_type": "markdown",
     "metadata": {},
     "source": [
      "<h3 style=\"color:blue\">Step 6<h3>  Smooth and then quantify (relatively) the change in signal before and after BSA."
     ]
    },
    {
     "cell_type": "code",
     "collapsed": false,
     "input": [
      "last=data.columns[-1] ; first=data.columns[0]\n",
      "diff=(data[last] / data[first]).ix[400.0:700.0]\n",
      "sub=(data[last] - data[first])  #Use the xmin as the starting point\n",
      "fig, (ax1, ax2) = plt.subplots(1,2, figsize=(16,12))  #This is quick command to define subplot layout\n",
      "ax1.plot(diff.index.values, diff) ; ax2.plot(sub.index.values, sub)\n",
      "ax1.set_title('Division of curves'); ax2.set_title('Subtraction of curves')"
     ],
     "language": "python",
     "metadata": {},
     "outputs": []
    },
    {
     "cell_type": "markdown",
     "metadata": {},
     "source": [
      "What we can see then is that the signal is increased for all wavelenghts > 500; however, the majority of the weight in this signal is between 500 and 650.  <h3 style=\"color:red\">It's really important to remember the subtracted(right) plot is sensitive to scaling; however, the normalized/divided plot is not.  Therefore, I can compare trials relatively if I scale to 1 each time; however, the y-axis values mean nothing unless I remove scaling completely.</h3>   "
     ]
    },
    {
     "cell_type": "markdown",
     "metadata": {},
     "source": [
      "I will now fix fit a smooth curve to the subtracted curve using a method from the scipy smoothing cookbook, then will use the absolute area under the curve as my metric for assessing binding efficacy of various coatings."
     ]
    },
    {
     "cell_type": "code",
     "collapsed": false,
     "input": [
      "smoothed_values=smooth(sub.values, window_len=20, window='flat', set_left=False, set_right=False)  #Method is built to handle numpy arrays not dataframes, so I have to manually pass values and reconstruct the frame\n",
      "smooth_sub=Series(smoothed_values, index=sub.index) #Series prevents attribute resetting using s1.values=s2 for example, so have to recreate\n",
      "fig, ax1 = plt.subplots(1, figsize=(16,12))  #This is quick command to define subplot layout\n",
      "ax1.plot(smooth_sub.index.values, smooth_sub, color='red', lw=5) \n",
      "ax1.plot(sub.index.values, sub, alpha=0.4)\n",
      "ax1.plot(sub.index.values, np.zeros(sub.index.values.shape), color='green')\n",
      "ax1.set_title('Subtraction of curves')"
     ],
     "language": "python",
     "metadata": {},
     "outputs": []
    },
    {
     "cell_type": "raw",
     "metadata": {},
     "source": [
      "**Note that the drop around 500nm is really because there is a rightward shift in weight."
     ]
    },
    {
     "cell_type": "markdown",
     "metadata": {},
     "source": [
      "<h3 style=\"color:blue\">Step 7<h3>  Analyze with several metrics."
     ]
    },
    {
     "cell_type": "raw",
     "metadata": {},
     "source": [
      "Metric 1:  Total area under the curve (not absolute area) which should balance out effects of shifting.\n",
      "Metric 2:  Absorbance at max lambda.\n",
      "Metric 3:  Area between 510 and 650."
     ]
    },
    {
     "cell_type": "code",
     "collapsed": false,
     "input": [
      "m1=simps(smooth_sub.values) #Total area under curve\n",
      "m2x=smooth_sub.index[smooth_sub.argmax()] \n",
      "#m2x=smooth_sub.ix[460.0:650.0].index[smooth_sub.ix[460.0:650.0].argmax()] #UNCOMMENT ONLY IF PEAK MAX IS APPEARING ON WINGS\n",
      "m2y=smooth_sub.get_value(m2x)\n",
      "\n",
      "m3start=510.0 ; m3end=650.0 #sliced area\n",
      "m3=simps(smooth_sub.ix[m3start:m3end].values)\n",
      "print 'Total area under the curve\\n\\n', m1\n",
      "print '\\n\\nWavelength and value of absorbance max:\\n\\n', m2x, '\\t', m2y\n",
      "print '\\n\\nTotal area under wavelength interval', str(m3start), ':', str(m3end), '\\n\\n', m3"
     ],
     "language": "python",
     "metadata": {},
     "outputs": [
      {
       "ename": "IndexError",
       "evalue": "invalid index",
       "output_type": "pyerr",
       "traceback": [
        "\u001b[1;31m---------------------------------------------------------------------------\u001b[0m\n\u001b[1;31mIndexError\u001b[0m                                Traceback (most recent call last)",
        "\u001b[1;32m<ipython-input-9-9ef77b856125>\u001b[0m in \u001b[0;36m<module>\u001b[1;34m()\u001b[0m\n\u001b[0;32m      5\u001b[0m \u001b[1;33m\u001b[0m\u001b[0m\n\u001b[0;32m      6\u001b[0m \u001b[0mm3start\u001b[0m\u001b[1;33m=\u001b[0m\u001b[1;36m510.0\u001b[0m \u001b[1;33m;\u001b[0m \u001b[0mm3end\u001b[0m\u001b[1;33m=\u001b[0m\u001b[1;36m650.0\u001b[0m \u001b[1;31m#sliced area\u001b[0m\u001b[1;33m\u001b[0m\u001b[0m\n\u001b[1;32m----> 7\u001b[1;33m \u001b[0mm3\u001b[0m\u001b[1;33m=\u001b[0m\u001b[0msimps\u001b[0m\u001b[1;33m(\u001b[0m\u001b[0msmooth_sub\u001b[0m\u001b[1;33m.\u001b[0m\u001b[0mix\u001b[0m\u001b[1;33m[\u001b[0m\u001b[0mm3start\u001b[0m\u001b[1;33m:\u001b[0m\u001b[0mm3end\u001b[0m\u001b[1;33m]\u001b[0m\u001b[1;33m.\u001b[0m\u001b[0mvalues\u001b[0m\u001b[1;33m)\u001b[0m\u001b[1;33m\u001b[0m\u001b[0m\n\u001b[0m\u001b[0;32m      8\u001b[0m \u001b[1;32mprint\u001b[0m \u001b[1;34m'Total area under the curve\\n\\n'\u001b[0m\u001b[1;33m,\u001b[0m \u001b[0mm1\u001b[0m\u001b[1;33m\u001b[0m\u001b[0m\n\u001b[0;32m      9\u001b[0m \u001b[1;32mprint\u001b[0m \u001b[1;34m'\\n\\nWavelength and value of absorbance max:\\n\\n'\u001b[0m\u001b[1;33m,\u001b[0m \u001b[0mm2x\u001b[0m\u001b[1;33m,\u001b[0m \u001b[1;34m'\\t'\u001b[0m\u001b[1;33m,\u001b[0m \u001b[0mm2y\u001b[0m\u001b[1;33m\u001b[0m\u001b[0m\n",
        "\u001b[1;32m/usr/local/EPD/lib/python2.7/site-packages/scipy/integrate/quadrature.py\u001b[0m in \u001b[0;36msimps\u001b[1;34m(y, x, dx, axis, even)\u001b[0m\n\u001b[0;32m    336\u001b[0m             \u001b[1;32mif\u001b[0m \u001b[1;32mnot\u001b[0m \u001b[0mx\u001b[0m \u001b[1;32mis\u001b[0m \u001b[0mNone\u001b[0m\u001b[1;33m:\u001b[0m\u001b[1;33m\u001b[0m\u001b[0m\n\u001b[0;32m    337\u001b[0m                 \u001b[0mlast_dx\u001b[0m \u001b[1;33m=\u001b[0m \u001b[0mx\u001b[0m\u001b[1;33m[\u001b[0m\u001b[0mslice1\u001b[0m\u001b[1;33m]\u001b[0m \u001b[1;33m-\u001b[0m \u001b[0mx\u001b[0m\u001b[1;33m[\u001b[0m\u001b[0mslice2\u001b[0m\u001b[1;33m]\u001b[0m\u001b[1;33m\u001b[0m\u001b[0m\n\u001b[1;32m--> 338\u001b[1;33m             \u001b[0mval\u001b[0m \u001b[1;33m+=\u001b[0m \u001b[1;36m0.5\u001b[0m\u001b[1;33m*\u001b[0m\u001b[0mlast_dx\u001b[0m\u001b[1;33m*\u001b[0m\u001b[1;33m(\u001b[0m\u001b[0my\u001b[0m\u001b[1;33m[\u001b[0m\u001b[0mslice1\u001b[0m\u001b[1;33m]\u001b[0m\u001b[1;33m+\u001b[0m\u001b[0my\u001b[0m\u001b[1;33m[\u001b[0m\u001b[0mslice2\u001b[0m\u001b[1;33m]\u001b[0m\u001b[1;33m)\u001b[0m\u001b[1;33m\u001b[0m\u001b[0m\n\u001b[0m\u001b[0;32m    339\u001b[0m             \u001b[0mresult\u001b[0m \u001b[1;33m=\u001b[0m \u001b[0m_basic_simps\u001b[0m\u001b[1;33m(\u001b[0m\u001b[0my\u001b[0m\u001b[1;33m,\u001b[0m\u001b[1;36m0\u001b[0m\u001b[1;33m,\u001b[0m\u001b[0mN\u001b[0m\u001b[1;33m-\u001b[0m\u001b[1;36m3\u001b[0m\u001b[1;33m,\u001b[0m\u001b[0mx\u001b[0m\u001b[1;33m,\u001b[0m\u001b[0mdx\u001b[0m\u001b[1;33m,\u001b[0m\u001b[0maxis\u001b[0m\u001b[1;33m)\u001b[0m\u001b[1;33m\u001b[0m\u001b[0m\n\u001b[0;32m    340\u001b[0m         \u001b[1;31m# Compute using Simpson's rule on last set of intervals\u001b[0m\u001b[1;33m\u001b[0m\u001b[1;33m\u001b[0m\u001b[0m\n",
        "\u001b[1;31mIndexError\u001b[0m: invalid index"
       ]
      }
     ],
     "prompt_number": 9
    },
    {
     "cell_type": "markdown",
     "metadata": {},
     "source": [
      "<h3 style=\"color:blue\">Step 8<h3>  Output data.  Note: I am running a file in append mode so that I can loop through this script for all of my experimental runs and simply append to the data file.  This was used when I ran through the data file by file for quick up to date input, but commented out once all data was gathered into the same outfile."
     ]
    },
    {
     "cell_type": "code",
     "collapsed": true,
     "input": [
      "notes='No notes'  #Any additional notes that I'd like to output with my files\n",
      "\n",
      "#o=open('7_21_data.txt', 'a')\n",
      "outlist=[filename, xmin, ymin, m1, m2x, m2y, m3, notes]\n",
      "outlist=[str(entry) for entry in outlist]\n",
      "#o.write('\\t'.join(outlist)+'\\n') #Better than putting the newline in the outlist because an extra tab is added then\n",
      "#o.close()"
     ],
     "language": "python",
     "metadata": {},
     "outputs": [
      {
       "ename": "NameError",
       "evalue": "name 'xmin' is not defined",
       "output_type": "pyerr",
       "traceback": [
        "\u001b[1;31m---------------------------------------------------------------------------\u001b[0m\n\u001b[1;31mNameError\u001b[0m                                 Traceback (most recent call last)",
        "\u001b[1;32m<ipython-input-10-9f1d2572b34e>\u001b[0m in \u001b[0;36m<module>\u001b[1;34m()\u001b[0m\n\u001b[0;32m      2\u001b[0m \u001b[1;33m\u001b[0m\u001b[0m\n\u001b[0;32m      3\u001b[0m \u001b[1;31m#o=open('7_21_data.txt', 'a')\u001b[0m\u001b[1;33m\u001b[0m\u001b[1;33m\u001b[0m\u001b[0m\n\u001b[1;32m----> 4\u001b[1;33m \u001b[0moutlist\u001b[0m\u001b[1;33m=\u001b[0m\u001b[1;33m[\u001b[0m\u001b[0mfilename\u001b[0m\u001b[1;33m,\u001b[0m \u001b[0mxmin\u001b[0m\u001b[1;33m,\u001b[0m \u001b[0mymin\u001b[0m\u001b[1;33m,\u001b[0m \u001b[0mm1\u001b[0m\u001b[1;33m,\u001b[0m \u001b[0mm2x\u001b[0m\u001b[1;33m,\u001b[0m \u001b[0mm2y\u001b[0m\u001b[1;33m,\u001b[0m \u001b[0mm3\u001b[0m\u001b[1;33m,\u001b[0m \u001b[0mnotes\u001b[0m\u001b[1;33m]\u001b[0m\u001b[1;33m\u001b[0m\u001b[0m\n\u001b[0m\u001b[0;32m      5\u001b[0m \u001b[0moutlist\u001b[0m\u001b[1;33m=\u001b[0m\u001b[1;33m[\u001b[0m\u001b[0mstr\u001b[0m\u001b[1;33m(\u001b[0m\u001b[0mentry\u001b[0m\u001b[1;33m)\u001b[0m \u001b[1;32mfor\u001b[0m \u001b[0mentry\u001b[0m \u001b[1;32min\u001b[0m \u001b[0moutlist\u001b[0m\u001b[1;33m]\u001b[0m\u001b[1;33m\u001b[0m\u001b[0m\n\u001b[0;32m      6\u001b[0m \u001b[1;31m#o.write('\\t'.join(outlist)+'\\n') #Better than putting the newline in the outlist because an extra tab is added then\u001b[0m\u001b[1;33m\u001b[0m\u001b[1;33m\u001b[0m\u001b[0m\n",
        "\u001b[1;31mNameError\u001b[0m: name 'xmin' is not defined"
       ]
      }
     ],
     "prompt_number": 10
    },
    {
     "cell_type": "markdown",
     "metadata": {},
     "source": [
      "<h3 style=\"color:blue\">Step 9<h3>  Plot the data comparitively.  "
     ]
    },
    {
     "cell_type": "markdown",
     "metadata": {},
     "source": [
      "<h3 style=\"color:red\">The presence of MUD actually seems to change the long wavelength profile of the signal.  Therefore, I think the absorbance max is the best statistic we have now.  This needs refined now, maybe either to average the max, and also do consider if the long wavelength behavior can still be captured.<h3>  "
     ]
    },
    {
     "cell_type": "code",
     "collapsed": false,
     "input": [
      "labels=['Bare', 'MHA', '2_1', '1_1', '1_2', '1_4']\n",
      "summary=read_csv('7_21_data.txt', sep='\\t', header=0, index_col=0)\n",
      "ymax_data=Series(summary.ymaxfinal, index=labels)\n",
      "totalarea=Series(summary.total_area, index=labels)\n",
      "croppedarea=Series(summary.cropped_area, index=labels)\n",
      "summary\n"
     ],
     "language": "python",
     "metadata": {},
     "outputs": []
    },
    {
     "cell_type": "code",
     "collapsed": false,
     "input": [
      "fig, (ax1, ax2, ax3) = plt.subplots(1,3, figsize=(16,12))  #This is quick command to define subplot layout\n",
      "ax1.plot(ymax_data, color='red') \n",
      "ax2.plot(totalarea, color='blue')\n",
      "ax3.plot(croppedarea, color='green') \n",
      "ax1.set_title('Max Absorbance') ; ax2.set_title('Total Area') ; ax3.set_title('Reduced Area (510-650nm)')\n",
      "ax1.set_xticklabels(labels) ; ax2.set_xticklabels(labels) ; ax3.set_xticklabels(labels)\n",
      "fig.suptitle(\"Experimental Results Summary\", fontsize=14)  #NOT WORKING?!"
     ],
     "language": "python",
     "metadata": {},
     "outputs": []
    },
    {
     "cell_type": "raw",
     "metadata": {},
     "source": [
      "The behavior is as expected, escept for the jump, which changes based on how one decides to measure the data.  It's clear that the binding does fall off with a gradation.  I think the key here is that the MUD-containing compounds cause a change at longer wavelengths; therefore, more thought needs to go into how to develop this metric."
     ]
    },
    {
     "cell_type": "code",
     "collapsed": false,
     "input": [],
     "language": "python",
     "metadata": {},
     "outputs": [],
     "prompt_number": 10
    }
   ],
   "metadata": {}
  }
 ]
}