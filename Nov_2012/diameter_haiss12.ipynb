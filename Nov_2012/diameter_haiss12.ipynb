{
 "metadata": {
  "name": "diameter_haiss12"
 },
 "nbformat": 3,
 "nbformat_minor": 0,
 "worksheets": [
  {
   "cells": [
    {
     "cell_type": "heading",
     "level": 1,
     "metadata": {},
     "source": [
      "11_5 Analysis: Calculating np's diameter using Haiss Method1 and Method2"
     ]
    },
    {
     "cell_type": "markdown",
     "metadata": {},
     "source": [
      "<h3 style=\"color:red\">Author: Zhaowen Liu<h3>"
     ]
    },
    {
     "cell_type": "raw",
     "metadata": {},
     "source": [
      "Introduction:\n",
      "    We performed UV-Vis Spectra on Nov5, scanning different concentration of gold nanoparticles with estimated diameters 25nm and 50nm.\n",
      "    25nm: We loaded a cuvette of 2.5mL H2O into the UVVis and then add 250uL np useing pipetter twice, measuring the spectrum of different concentration.\n",
      "\n",
      "NOTE: This notebook covers analysis of estimated 25nm NP's only.\n",
      "\n",
      "\n",
      "    50nm: We loaded a cuvette of 2.5mL H2O into the UVVis and then add 50uL,50uL,100uL,100uL,200uL np seperately each time using pipetter, measuing the spectrum of different concentration.\n",
      "    We also added 300uL BSA(made 15days ago from Nov5) into both np, however from the scanning curve, the BSA must contaminated.\n",
      "    To size the np, we use the Haiss method1 and method2 to analyze the Absorbance-Wavelength data.   "
     ]
    },
    {
     "cell_type": "markdown",
     "metadata": {},
     "source": [
      "<h3 style=\"color:blue\">Import modules and functions:<h3>"
     ]
    },
    {
     "cell_type": "code",
     "collapsed": false,
     "input": [
      "from pandas import Series, DataFrame, read_csv\n",
      "import numpy as np\n",
      "import sys\n",
      "import matplotlib.pyplot as plt\n",
      "from scipy.stats import linregress\n",
      "#from cookb_signalsmooth import smooth\n",
      "from scipy.interpolate import UnivariateSpline, splrep, splev\n",
      "import math\n",
      "import pprint"
     ],
     "language": "python",
     "metadata": {},
     "outputs": [],
     "prompt_number": 309
    },
    {
     "cell_type": "code",
     "collapsed": false,
     "input": [
      "df1=DataFrame((np.random.randn(5,5)))\n",
      "df1.to_csv('out', sep='\\t')\n",
      "df1=read_csv('out', sep='\\t')\n",
      "pprint.pprint(df1)\n",
      "df1\n",
      "type(df1)"
     ],
     "language": "python",
     "metadata": {},
     "outputs": [
      {
       "output_type": "stream",
       "stream": "stdout",
       "text": [
        "   Unnamed: 0         0         1         2         3         4\n",
        "0           0 -0.148186  0.905847  1.279588  0.049159  0.671836\n",
        "1           1  0.764341  0.436108  0.011732  0.226727  1.833673\n",
        "2           2 -0.573933  0.782219  0.227016 -1.352225 -0.159058\n",
        "3           3  1.263239  0.623198 -2.548714 -1.281497 -1.493823\n",
        "4           4 -1.409542  0.191647 -0.617314  0.495166 -0.509184\n"
       ]
      },
      {
       "output_type": "pyout",
       "prompt_number": 333,
       "text": [
        "pandas.core.frame.DataFrame"
       ]
      }
     ],
     "prompt_number": 333
    },
    {
     "cell_type": "code",
     "collapsed": false,
     "input": [
      "datapath=\"/home/reeves/Dropbox/Curve_Analysis_Traits/Curve_Analaysis_V6/\"  #MAKE THIS THE PATH TO YOUR COPY OF THE PROGRAMS\n",
      "sys.path.append(datapath)\n",
      "\n",
      "from spec_class import from_gwu_chem_IR, get_files_in_dir\n",
      "from spec_utilities import boxcar\n",
      "from haiss_functions import haiss_m1, haiss_m2, haiss_m3, haiss_conc\n",
      "from spec_aesthetics import specplot"
     ],
     "language": "python",
     "metadata": {},
     "outputs": [],
     "prompt_number": 311
    },
    {
     "cell_type": "code",
     "collapsed": false,
     "input": [
      "sys.path\n"
     ],
     "language": "python",
     "metadata": {},
     "outputs": [
      {
       "output_type": "pyout",
       "prompt_number": 312,
       "text": [
        "['',\n",
        " '/usr/local/EPD/lib/python27.zip',\n",
        " '/usr/local/EPD/lib/python2.7',\n",
        " '/usr/local/EPD/lib/python2.7/plat-linux2',\n",
        " '/usr/local/EPD/lib/python2.7/lib-tk',\n",
        " '/usr/local/EPD/lib/python2.7/lib-old',\n",
        " '/usr/local/EPD/lib/python2.7/lib-dynload',\n",
        " '/usr/local/EPD/lib/python2.7/site-packages',\n",
        " '/usr/local/EPD/lib/python2.7/site-packages/PIL',\n",
        " '/usr/local/EPD/lib/python2.7/site-packages/IPython/extensions',\n",
        " '/home/glue/Dropbox/Curve_Analysis_Traits/Curve_Analaysis_V6/',\n",
        " '/home/reeves/Dropbox/Curve_Analysis_Traits/Curve_Analaysis_V6/',\n",
        " '/home/reeves/Dropbox/Curve_Analysis_Traits/Curve_Analaysis_V6/',\n",
        " '/home/reeves/Dropbox/Curve_Analysis_Traits/Curve_Analaysis_V6/',\n",
        " '/home/reeves/Dropbox/Curve_Analysis_Traits/Curve_Analaysis_V6/',\n",
        " '/home/reeves/Dropbox/Curve_Analysis_Traits/Curve_Analaysis_V6/',\n",
        " '/home/reeves/Dropbox/Curve_Analysis_Traits/Curve_Analaysis_V6/',\n",
        " '/home/reeves/Dropbox/Curve_Analysis_Traits/Curve_Analaysis_V6/',\n",
        " '/home/reeves/Dropbox/Curve_Analysis_Traits/Curve_Analaysis_V6/',\n",
        " '/home/reeves/Dropbox/Curve_Analysis_Traits/Curve_Analaysis_V6/',\n",
        " '/home/reeves/Dropbox/Curve_Analysis_Traits/Curve_Analaysis_V6/',\n",
        " '/home/reeves/Dropbox/Curve_Analysis_Traits/Curve_Analaysis_V6/',\n",
        " '/home/reeves/Dropbox/Curve_Analysis_Traits/Curve_Analaysis_V6/']"
       ]
      }
     ],
     "prompt_number": 312
    },
    {
     "cell_type": "markdown",
     "metadata": {},
     "source": [
      "<h3 style=\"color:blue\">Read in data from rundir to Pandas Dataframe df:<h3>\n"
     ]
    },
    {
     "cell_type": "raw",
     "metadata": {},
     "source": [
      "rundir is the file name the data saved in.\n",
      "To read all data txt files, use get_files_in_dir()\n",
      "To convert data into Pandas Dataframe, use from_gwu_chem_IR()"
     ]
    },
    {
     "cell_type": "code",
     "collapsed": false,
     "input": [
      "rundir='./11_5_12_UVVIS_22.5-50nm_NP/25nm_np/NPConcentration'\n",
      "files=get_files_in_dir(rundir)\n",
      "df=from_gwu_chem_IR(files)\n",
      "df"
     ],
     "language": "python",
     "metadata": {},
     "outputs": [
      {
       "output_type": "pyout",
       "prompt_number": 313,
       "text": [
        "<class 'pandas.core.frame.DataFrame'>\n",
        "Index: 1001 entries, 400.0 to 900.0\n",
        "Data columns:\n",
        "25nm_300ul.txt    801  non-null values\n",
        "25nm_50ul.txt     801  non-null values\n",
        "25nm_200ul.txt    801  non-null values\n",
        "25nm_500ul.txt    801  non-null values\n",
        "25nm_100ul.txt    801  non-null values\n",
        "dtypes: float64(5)"
       ]
      }
     ],
     "prompt_number": 313
    },
    {
     "cell_type": "markdown",
     "metadata": {},
     "source": [
      "**Sort df by the name of the data file:** "
     ]
    },
    {
     "cell_type": "code",
     "collapsed": false,
     "input": [
      "sortedcols=['25nm_50ul.txt', '25nm_100ul.txt', '25nm_200ul.txt', '25nm_300ul.txt', '25nm_500ul.txt']\n",
      "df=df.reindex(columns=sortedcols)\n",
      "df"
     ],
     "language": "python",
     "metadata": {},
     "outputs": [
      {
       "output_type": "pyout",
       "prompt_number": 314,
       "text": [
        "<class 'pandas.core.frame.DataFrame'>\n",
        "Index: 1001 entries, 400.0 to 900.0\n",
        "Data columns:\n",
        "25nm_50ul.txt     801  non-null values\n",
        "25nm_100ul.txt    801  non-null values\n",
        "25nm_200ul.txt    801  non-null values\n",
        "25nm_300ul.txt    801  non-null values\n",
        "25nm_500ul.txt    801  non-null values\n",
        "dtypes: float64(5)"
       ]
      }
     ],
     "prompt_number": 314
    },
    {
     "cell_type": "markdown",
     "metadata": {},
     "source": [
      "**Plot df using spectplot():**"
     ]
    },
    {
     "cell_type": "code",
     "collapsed": false,
     "input": [
      "specplot(df,title='original_data')"
     ],
     "language": "python",
     "metadata": {},
     "outputs": [
      {
       "output_type": "pyout",
       "prompt_number": 315,
       "text": [
        "<matplotlib.axes.AxesSubplot at 0xd2a9d6c>"
       ]
      },
      {
       "output_type": "display_data",
       "png": "[encoded data removed]"
      }
     ],
     "prompt_number": 315
    },
    {
     "cell_type": "markdown",
     "metadata": {},
     "source": [
      "<h3 style=\"color:blue\">Smooth the data using boxcar():<h3>"
     ]
    },
    {
     "cell_type": "code",
     "collapsed": false,
     "input": [
      "dfsmooth=boxcar(df,5.0,axis=1)\n",
      "dfsmooth"
     ],
     "language": "python",
     "metadata": {},
     "outputs": [
      {
       "output_type": "pyout",
       "prompt_number": 316,
       "text": [
        "<class 'pandas.core.frame.DataFrame'>\n",
        "Index: 201 entries, 400.0 to 900.0\n",
        "Data columns:\n",
        "25nm_50ul.txt     161  non-null values\n",
        "25nm_100ul.txt    161  non-null values\n",
        "25nm_200ul.txt    161  non-null values\n",
        "25nm_300ul.txt    161  non-null values\n",
        "25nm_500ul.txt    161  non-null values\n",
        "dtypes: float64(5)"
       ]
      }
     ],
     "prompt_number": 316
    },
    {
     "cell_type": "markdown",
     "metadata": {},
     "source": [
      "**Plot the smoothed data(dfsmooth) using spectplot():**"
     ]
    },
    {
     "cell_type": "code",
     "collapsed": false,
     "input": [
      "specplot(dfsmooth,title='smoothed_data')"
     ],
     "language": "python",
     "metadata": {},
     "outputs": [
      {
       "output_type": "pyout",
       "prompt_number": 317,
       "text": [
        "<matplotlib.axes.AxesSubplot at 0xd29f32c>"
       ]
      },
      {
       "output_type": "display_data",
       "png": "[encoded data removed]"
      }
     ],
     "prompt_number": 317
    },
    {
     "cell_type": "heading",
     "level": 4,
     "metadata": {},
     "source": [
      "<h3 style=\"color:blue\">Calculate np's diameter using original/unsmoothed data and Haiss method2: $d=e^{(B_1\\frac{A_{spr}}{A_{450}}-B_2)}$<h3>\n",
      "    Step 1:Get A450, the value of the absorbance at wavelength=450nm.\n",
      "    "
     ]
    },
    {
     "cell_type": "markdown",
     "metadata": {},
     "source": [
      "To get A450, use df.ix[].mean(axis=0), extracting the absorbance of a small range around 450nm, 450$\\pm$dist nm, and calculating its average as A450."
     ]
    },
    {
     "cell_type": "code",
     "collapsed": false,
     "input": [
      "dist=3.0\n",
      "A450=df.ix[450.0-dist:450.0+dist].mean(axis=0)\n",
      "print 'filename          A450'\n",
      "A450"
     ],
     "language": "python",
     "metadata": {},
     "outputs": [
      {
       "output_type": "stream",
       "stream": "stdout",
       "text": [
        "filename          A450\n"
       ]
      },
      {
       "output_type": "pyout",
       "prompt_number": 318,
       "text": [
        "25nm_50ul.txt     0.068537\n",
        "25nm_100ul.txt    0.122855\n",
        "25nm_200ul.txt    0.232430\n",
        "25nm_300ul.txt    0.331774\n",
        "25nm_500ul.txt    0.519912"
       ]
      }
     ],
     "prompt_number": 318
    },
    {
     "cell_type": "heading",
     "level": 3,
     "metadata": {},
     "source": [
      "Step2:Get Aspr, the average value of the absorbance at the maximum position."
     ]
    },
    {
     "cell_type": "raw",
     "metadata": {},
     "source": [
      "Since it is original data, the max position of each data file is different, so here\n",
      "1) use df.idxmax(axis=0) to get maxwav, a series of wavelength at max absorbance\n",
      "2) calculate Aspr for each data file '25nm_50ul.txt', '25nm_100ul.txt', '25nm_200ul.txt', '25nm_300ul.txt', '25nm_500ul.txt'"
     ]
    },
    {
     "cell_type": "code",
     "collapsed": false,
     "input": [
      "r2=lambda x: str( round(x,2))+' nm' #Quick rounding function for nicer output\n",
      "\n",
      "dist=3.0\n",
      "maxwav=df.idxmax(axis=0)\n",
      "#print type(maxwav)\n",
      "Aspr=[]\n",
      "print 'Wav_max         Aspr'\n",
      "for idx,item in enumerate(maxwav):\n",
      "    left=item-dist\n",
      "    right=item+dist\n",
      "    spri=df.ix[left:right].mean(axis=0)[idx]\n",
      "    print item, r2(spri)\n",
      "    Aspr.append(spri)\n",
      "#df2=df.ix[df.idxmax(axis=0)-dist:df.idxmax(axis=0)+dist]\n",
      "#df2\n",
      "#Aspr=df.ix[df.idxmax(axis=0)-dist: df.idxmax(axis=0)+dist].mean(axis=0)\n",
      "#Aspr"
     ],
     "language": "python",
     "metadata": {},
     "outputs": [
      {
       "output_type": "stream",
       "stream": "stdout",
       "text": [
        "Wav_max         Aspr\n",
        "522.0 0.13 nm\n",
        "522.0 0.23 nm\n",
        "521.5 0.43 nm\n",
        "523.5 0.62 nm\n",
        "525.5 0.97 nm\n"
       ]
      }
     ],
     "prompt_number": 319
    },
    {
     "cell_type": "heading",
     "level": 3,
     "metadata": {},
     "source": [
      "Step 3: Calculate the diameter both experimental(d_exp) and theoretical(d_th)"
     ]
    },
    {
     "cell_type": "markdown",
     "metadata": {},
     "source": [
      "Haiss Method2: $d=e^{(B_1\\frac{A_{spr}}{A_{450}}-B_2)}$"
     ]
    },
    {
     "cell_type": "code",
     "collapsed": false,
     "input": [
      "Aspr_A450=Aspr/A450\n",
      "d_exp=[]\n",
      "print 'SPR_Ratio      Diameter(nm)'\n",
      "for item in Aspr_A450:\n",
      "    di=haiss_m2(item, meth='Experimental')\n",
      "    print item, r2(di)\n",
      "    d_exp.append(r2(di))\n",
      "#    d_exp.append(di)"
     ],
     "language": "python",
     "metadata": {},
     "outputs": [
      {
       "output_type": "stream",
       "stream": "stdout",
       "text": [
        "SPR_Ratio      Diameter(nm)\n",
        "1.84473276617 28.06 nm\n",
        "1.87731590185 30.94 nm\n",
        "1.86293971055 29.63 nm\n",
        "1.87941739739 31.13 nm\n",
        "1.86565466019 29.87 nm\n"
       ]
      }
     ],
     "prompt_number": 320
    },
    {
     "cell_type": "code",
     "collapsed": false,
     "input": [
      "d_th=[]\n",
      "print 'SPR_Ratio      Diameter(nm)'\n",
      "for item in Aspr_A450:\n",
      "    di=haiss_m2(item, meth='Theoretical')\n",
      "    print item, r2(di)\n",
      "    d_th.append(r2(di))\n",
      "#    d_th.append(di)"
     ],
     "language": "python",
     "metadata": {},
     "outputs": [
      {
       "output_type": "stream",
       "stream": "stdout",
       "text": [
        "SPR_Ratio      Diameter(nm)\n",
        "1.84473276617 31.15 nm\n",
        "1.87731590185 34.97 nm\n",
        "1.86293971055 33.23 nm\n",
        "1.87941739739 35.23 nm\n",
        "1.86565466019 33.55 nm\n"
       ]
      }
     ],
     "prompt_number": 321
    },
    {
     "cell_type": "markdown",
     "metadata": {},
     "source": [
      "<h3 style=\"color:blue\">Calculate np's diameter using smoothed data and Haiss method2:  $d=exp^{(B_1\\frac{A_{spr}}{A_{450}}-B_2)}$<h3>\n"
     ]
    },
    {
     "cell_type": "heading",
     "level": 3,
     "metadata": {},
     "source": [
      "Step 1: Get A450_smooth, the value of the absorbance at wavelength=450nm."
     ]
    },
    {
     "cell_type": "raw",
     "metadata": {},
     "source": [
      "To get A450_smooth, use df.ix[].mean(axis=0), extracting the absorbance of a small range around 450nm, 450\u00b1dist nm, and calculating its average as A450_smooth."
     ]
    },
    {
     "cell_type": "code",
     "collapsed": false,
     "input": [
      "dist=3.0\n",
      "A450_smooth=dfsmooth.ix[450.0-dist:450.0+dist].mean(axis=0)\n",
      "print 'filename          A450_smooth'\n",
      "A450_smooth"
     ],
     "language": "python",
     "metadata": {},
     "outputs": [
      {
       "output_type": "stream",
       "stream": "stdout",
       "text": [
        "filename          A450_smooth\n"
       ]
      },
      {
       "output_type": "pyout",
       "prompt_number": 322,
       "text": [
        "25nm_50ul.txt     0.067948\n",
        "25nm_100ul.txt    0.122314\n",
        "25nm_200ul.txt    0.232193\n",
        "25nm_300ul.txt    0.331379\n",
        "25nm_500ul.txt    0.519837"
       ]
      }
     ],
     "prompt_number": 322
    },
    {
     "cell_type": "heading",
     "level": 3,
     "metadata": {},
     "source": [
      "Step 2: Get Aspr_smooth, the average value of the absorbance at the maximum position."
     ]
    },
    {
     "cell_type": "raw",
     "metadata": {},
     "source": [
      "Since it is smoothed data, the max position of each data file is the same. However we can also use the similar method\n",
      "1) use df.idxmax(axis=0) to get maxwav, a series of wavelength at max absorbance\n",
      "2) calculate Aspr_smooth for each data file '25nm_50ul.txt', '25nm_100ul.txt', '25nm_200ul.txt', '25nm_300ul.txt', '25nm_500ul.txt'"
     ]
    },
    {
     "cell_type": "code",
     "collapsed": false,
     "input": [
      "dist=3.0\n",
      "maxwav=dfsmooth.idxmax(axis=0)\n",
      "Aspr_smooth=[]\n",
      "print 'filename          A450_smooth'\n",
      "for idx,item in enumerate(maxwav):\n",
      "    left=item-dist\n",
      "    right=item+dist\n",
      "    spri=dfsmooth.ix[left:right].mean(axis=0)[idx]\n",
      "    Aspr_smooth.append(spri)\n",
      "for idx, item in enumerate(df.columns):\n",
      "    print item, r2(Aspr_smooth[idx])"
     ],
     "language": "python",
     "metadata": {},
     "outputs": [
      {
       "output_type": "stream",
       "stream": "stdout",
       "text": [
        "filename          A450_smooth\n",
        "25nm_50ul.txt 0.13 nm\n",
        "25nm_100ul.txt 0.23 nm\n",
        "25nm_200ul.txt 0.43 nm\n",
        "25nm_300ul.txt 0.62 nm\n",
        "25nm_500ul.txt 0.97 nm\n"
       ]
      }
     ],
     "prompt_number": 323
    },
    {
     "cell_type": "heading",
     "level": 3,
     "metadata": {},
     "source": [
      "Step 3: Calculate the diameter both experimental(d_exp_smooth) and theoretical(d_th_smooth)"
     ]
    },
    {
     "cell_type": "code",
     "collapsed": false,
     "input": [
      "Aspr_A450_smooth=Aspr_smooth/A450_smooth\n",
      "d_exp_smooth=[]\n",
      "print 'SPR_Ratio      Diameter(nm)'\n",
      "for item in Aspr_A450_smooth:\n",
      "    di=haiss_m2(item, meth='Experimental')\n",
      "    print item, r2(di)\n",
      "    d_exp_smooth.append(r2(di))\n"
     ],
     "language": "python",
     "metadata": {},
     "outputs": [
      {
       "output_type": "stream",
       "stream": "stdout",
       "text": [
        "SPR_Ratio      Diameter(nm)\n",
        "1.86162948137 29.51 nm\n",
        "1.88625995389 31.78 nm\n",
        "1.86621493583 29.92 nm\n",
        "1.88004659322 31.19 nm\n",
        "1.86910375695 30.18 nm\n"
       ]
      }
     ],
     "prompt_number": 324
    },
    {
     "cell_type": "code",
     "collapsed": false,
     "input": [
      "d_th_smooth=[]\n",
      "print 'SPR_Ratio      Diameter(nm)'\n",
      "for item in Aspr_A450_smooth:\n",
      "    di=haiss_m2(item, meth='Theoretical')\n",
      "    print item, r2(di)\n",
      "    d_th_smooth.append(r2(di))"
     ],
     "language": "python",
     "metadata": {},
     "outputs": [
      {
       "output_type": "stream",
       "stream": "stdout",
       "text": [
        "SPR_Ratio      Diameter(nm)\n",
        "1.86162948137 33.08 nm\n",
        "1.88625995389 36.1 nm\n",
        "1.86621493583 33.62 nm\n",
        "1.88004659322 35.31 nm\n",
        "1.86910375695 33.96 nm\n"
       ]
      }
     ],
     "prompt_number": 325
    },
    {
     "cell_type": "markdown",
     "metadata": {},
     "source": [
      "<h3 style=\"color:blue\">Calculate np's diameter using original data and Haiss method1:  $d=\\frac{ln(\\frac{\\lambda_{spr}-\\lambda_0}{L_1})}{L_2}$<h3>"
     ]
    },
    {
     "cell_type": "code",
     "collapsed": false,
     "input": [
      "Wav_spr=df.idxmax(axis=0)\n",
      "d_1=[]\n",
      "print 'Wav_spr   Diameter(nm)'\n",
      "for item in Wav_spr:\n",
      "    di=haiss_m1(item)\n",
      "    print item, r2(di)\n",
      "    d_1.append(r2(di))\n",
      "    \n",
      "#for idx, item in Wav_spr:\n",
      "#    print item"
     ],
     "language": "python",
     "metadata": {},
     "outputs": [
      {
       "output_type": "stream",
       "stream": "stdout",
       "text": [
        "Wav_spr   Diameter(nm)\n",
        "522.0 19.73 nm\n",
        "522.0 19.73 nm\n",
        "521.5 17.36 nm\n",
        "523.5 26.2 nm\n",
        "525.5 33.62 nm\n"
       ]
      }
     ],
     "prompt_number": 326
    },
    {
     "cell_type": "markdown",
     "metadata": {},
     "source": [
      "**Annie, at this point, I showed Zhaowen that pandas has a nice function called apply() which will let you map any function to a dataframe an execute it column by column.  For example, we can apply the haiss function to the dataframe in one go, rather than column by column as evelyn as done above.**"
     ]
    },
    {
     "cell_type": "code",
     "collapsed": false,
     "input": [
      "haiss_df=Wav_spr.apply(haiss_m1)\n",
      "haiss_df"
     ],
     "language": "python",
     "metadata": {},
     "outputs": [
      {
       "output_type": "pyout",
       "prompt_number": 327,
       "text": [
        "25nm_50ul.txt     19.730470\n",
        "25nm_100ul.txt    19.730470\n",
        "25nm_200ul.txt    17.355780\n",
        "25nm_300ul.txt    26.200930\n",
        "25nm_500ul.txt    33.624201"
       ]
      }
     ],
     "prompt_number": 327
    },
    {
     "cell_type": "markdown",
     "metadata": {},
     "source": [
      "**I also would like, instead of having the data run to 6 decimal places, I'd like it to be rounded to 2 placed, and also add \"nm\" after it to it's clear that this is a diameter.  I can do this operation (rounding and adding \"nm\") in a function, and then apply that.**\n",
      "\n",
      "**Why don't you try changing some of the other calls to haiss to operate in this manner?**"
     ]
    },
    {
     "cell_type": "code",
     "collapsed": false,
     "input": [
      "haiss_df_out=haiss_df.apply(lambda x: str(round(x,2))+' nm' )\n",
      "haiss_df_out"
     ],
     "language": "python",
     "metadata": {},
     "outputs": [
      {
       "output_type": "pyout",
       "prompt_number": 328,
       "text": [
        "25nm_50ul.txt     19.73 nm\n",
        "25nm_100ul.txt    19.73 nm\n",
        "25nm_200ul.txt    17.36 nm\n",
        "25nm_300ul.txt     26.2 nm\n",
        "25nm_500ul.txt    33.62 nm"
       ]
      }
     ],
     "prompt_number": 328
    },
    {
     "cell_type": "markdown",
     "metadata": {},
     "source": [
      "<h3 style=\"color:blue\">Calculate np's diameter using smoothed data and Haiss method1:  $d=\\frac{ln(\\frac{\\lambda_{spr}-\\lambda_0}{L_1})}{L_2}$<h3>"
     ]
    },
    {
     "cell_type": "code",
     "collapsed": false,
     "input": [
      "Wav_spr_smooth=dfsmooth.idxmax(axis=0)\n",
      "d_1_smooth=[]\n",
      "print 'Wav_spr   Diameter(nm)'\n",
      "for item in Wav_spr_smooth:\n",
      "    di=haiss_m1(item)\n",
      "    print item, r2(di)\n",
      "    d_1_smooth.append(r2(di))"
     ],
     "language": "python",
     "metadata": {},
     "outputs": [
      {
       "output_type": "stream",
       "stream": "stdout",
       "text": [
        "Wav_spr   Diameter(nm)\n",
        "522.5 21.99 nm\n",
        "522.5 21.99 nm\n",
        "522.5 21.99 nm\n",
        "522.5 21.99 nm\n",
        "522.5 21.99 nm\n"
       ]
      }
     ],
     "prompt_number": 329
    },
    {
     "cell_type": "markdown",
     "metadata": {},
     "source": [
      "**It is no surprise that these all have the same value, as they are soley determined by $\\lambda_{spr}$, which is identical between curves when the data has been smoothed**"
     ]
    },
    {
     "cell_type": "markdown",
     "metadata": {},
     "source": [
      "<h3 style=\"color:blue\">Results:<h3>\n"
     ]
    },
    {
     "cell_type": "heading",
     "level": 2,
     "metadata": {},
     "source": [
      "TABLE WILL GO HERE, HAVING TROUBLE FIGURING OUT HOW TO BUILD IT"
     ]
    },
    {
     "cell_type": "code",
     "collapsed": false,
     "input": [
      "index=df.columns\n",
      "d={'H1_raw':d_1,\n",
      "   'H1_s':d_1_smooth,\n",
      "   'H2_raw_exp':d_exp,\n",
      "   'H2_raw_th':d_th,\n",
      "   'H2_s_exp':d_exp_smooth,\n",
      "   'H2_s_th':d_th_smooth}\n",
      "d=DataFrame(d,index=index)\n",
      "d.to_csv('out', sep='\\t')\n",
      "d=read_csv('out', sep='\\t')\n",
      "d"
     ],
     "language": "python",
     "metadata": {},
     "outputs": [
      {
       "html": [
        "<div style=\"max-height:1000px;max-width:1500px;overflow:auto;\">\n",
        "<table border=\"1\">\n",
        "  <thead>\n",
        "    <tr>\n",
        "      <th></th>\n",
        "      <th>Unnamed: 0</th>\n",
        "      <th>H1_raw</th>\n",
        "      <th>H1_s</th>\n",
        "      <th>H2_raw_exp</th>\n",
        "      <th>H2_raw_th</th>\n",
        "      <th>H2_s_exp</th>\n",
        "      <th>H2_s_th</th>\n",
        "    </tr>\n",
        "  </thead>\n",
        "  <tbody>\n",
        "    <tr>\n",
        "      <td><strong>0</strong></td>\n",
        "      <td>  25nm_50ul.txt</td>\n",
        "      <td> 19.73 nm</td>\n",
        "      <td> 21.99 nm</td>\n",
        "      <td> 28.06 nm</td>\n",
        "      <td> 31.15 nm</td>\n",
        "      <td> 29.51 nm</td>\n",
        "      <td> 33.08 nm</td>\n",
        "    </tr>\n",
        "    <tr>\n",
        "      <td><strong>1</strong></td>\n",
        "      <td> 25nm_100ul.txt</td>\n",
        "      <td> 19.73 nm</td>\n",
        "      <td> 21.99 nm</td>\n",
        "      <td> 30.94 nm</td>\n",
        "      <td> 34.97 nm</td>\n",
        "      <td> 31.78 nm</td>\n",
        "      <td>  36.1 nm</td>\n",
        "    </tr>\n",
        "    <tr>\n",
        "      <td><strong>2</strong></td>\n",
        "      <td> 25nm_200ul.txt</td>\n",
        "      <td> 17.36 nm</td>\n",
        "      <td> 21.99 nm</td>\n",
        "      <td> 29.63 nm</td>\n",
        "      <td> 33.23 nm</td>\n",
        "      <td> 29.92 nm</td>\n",
        "      <td> 33.62 nm</td>\n",
        "    </tr>\n",
        "    <tr>\n",
        "      <td><strong>3</strong></td>\n",
        "      <td> 25nm_300ul.txt</td>\n",
        "      <td>  26.2 nm</td>\n",
        "      <td> 21.99 nm</td>\n",
        "      <td> 31.13 nm</td>\n",
        "      <td> 35.23 nm</td>\n",
        "      <td> 31.19 nm</td>\n",
        "      <td> 35.31 nm</td>\n",
        "    </tr>\n",
        "    <tr>\n",
        "      <td><strong>4</strong></td>\n",
        "      <td> 25nm_500ul.txt</td>\n",
        "      <td> 33.62 nm</td>\n",
        "      <td> 21.99 nm</td>\n",
        "      <td> 29.87 nm</td>\n",
        "      <td> 33.55 nm</td>\n",
        "      <td> 30.18 nm</td>\n",
        "      <td> 33.96 nm</td>\n",
        "    </tr>\n",
        "  </tbody>\n",
        "</table>\n",
        "</div>"
       ],
       "output_type": "pyout",
       "prompt_number": 340,
       "text": [
        "       Unnamed: 0    H1_raw      H1_s H2_raw_exp H2_raw_th  H2_s_exp   H2_s_th\n",
        "0   25nm_50ul.txt  19.73 nm  21.99 nm   28.06 nm  31.15 nm  29.51 nm  33.08 nm\n",
        "1  25nm_100ul.txt  19.73 nm  21.99 nm   30.94 nm  34.97 nm  31.78 nm   36.1 nm\n",
        "2  25nm_200ul.txt  17.36 nm  21.99 nm   29.63 nm  33.23 nm  29.92 nm  33.62 nm\n",
        "3  25nm_300ul.txt   26.2 nm  21.99 nm   31.13 nm  35.23 nm  31.19 nm  35.31 nm\n",
        "4  25nm_500ul.txt  33.62 nm  21.99 nm   29.87 nm  33.55 nm  30.18 nm  33.96 nm"
       ]
      }
     ],
     "prompt_number": 340
    }
   ],
   "metadata": {}
  }
 ]
}