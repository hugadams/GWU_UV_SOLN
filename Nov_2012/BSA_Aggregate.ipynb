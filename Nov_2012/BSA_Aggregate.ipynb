{
 "metadata": {
  "name": "25nm"
 },
 "nbformat": 3,
 "nbformat_minor": 0,
 "worksheets": [
  {
   "cells": [
    {
     "cell_type": "heading",
     "level": 1,
     "metadata": {},
     "source": [
      "11_18 Analysis: observing the effect of adding BSA into gold nanoparticles"
     ]
    },
    {
     "cell_type": "raw",
     "metadata": {},
     "source": [
      "Introduction:\n",
      "    Using UVVis scanning 50nm nanoparticles and 25nm nanoparticles, and then adding BSA into them. \n",
      "    1) glass cuvvette\n",
      "       2ml H2O -- baseline\n",
      "       1ml 50nm np -- scan once\n",
      "       200ul BSA -- scan twice(about 10min for each scanning, 5min interval)\n",
      "       200ul BSA(so 400ul BSA in total) -- scan once\n",
      "       \n",
      "       \n",
      "       From the two curve of BSA, the change in the short wavelength is due to change of concentration; the change in the middle part is due to BSA binding and the change of concentration. \n",
      "       From the first curve of BSA, its peak moves to right slightly, suggesting the BSA works for binding. And the second curve of BSA is a little different from the first one, which means BSA is till working for binding.\n",
      "       \n",
      "       \n",
      "     2) glass cuvvette\n",
      "        2ml H2O -- baseline\n",
      "        0.5ml 25nm np -- scan once\n",
      "        200ul BSA\n",
      "        The curve of BSA changes a lot and its peak is flatter compared to the curve of np, suggesting that the BSA makes np aggregate. So try 0.25ml 25nm np one more time:\n",
      "        2ml H2O -- baseline\n",
      "        0.25ml 25nm np -- scan once\n",
      "        200ul BSA\n",
      "        However, still aggregation.\n",
      "     \n",
      "     It is strange that we use the same BSA for 50nm np and 25nm np. But the 50nm np does not aggregate while 25nm np does."
     ]
    },
    {
     "cell_type": "code",
     "collapsed": false,
     "input": [
      "from pandas import Series, DataFrame, read_csv\n",
      "import numpy as np\n",
      "import sys\n",
      "import matplotlib.pyplot as plt\n",
      "from scipy.stats import linregress\n",
      "#from cookb_signalsmooth import smooth\n",
      "from scipy.interpolate import UnivariateSpline, splrep, splev\n",
      "import math"
     ],
     "language": "python",
     "metadata": {},
     "outputs": [],
     "prompt_number": 10
    },
    {
     "cell_type": "code",
     "collapsed": false,
     "input": [
      "datapath=\"/home/reeves/Dropbox/Curve_Analysis_Traits/Curve_Analaysis_V6/\"  #MAKE THIS THE PATH TO YOUR COPY OF THE PROGRAMS\n",
      "sys.path.append(datapath)\n",
      "\n",
      "from spec_class import from_gwu_chem_IR, get_files_in_dir\n",
      "from spec_utilities import boxcar\n",
      "from haiss_functions import haiss_m1, haiss_m2, haiss_m3, haiss_conc\n",
      "from spec_aesthetics import specplot"
     ],
     "language": "python",
     "metadata": {},
     "outputs": [],
     "prompt_number": 11
    },
    {
     "cell_type": "code",
     "collapsed": false,
     "input": [
      "rundir='./25nm_np'\n",
      "files=get_files_in_dir(rundir)\n",
      "df=from_gwu_chem_IR(files)\n",
      "df"
     ],
     "language": "python",
     "metadata": {},
     "outputs": [
      {
       "output_type": "pyout",
       "prompt_number": 12,
       "text": [
        "<class 'pandas.core.frame.DataFrame'>\n",
        "Index: 1001 entries, 400.0 to 900.0\n",
        "Data columns:\n",
        "25nm_250ul.txt             801  non-null values\n",
        "25nm_250ul_200ulbsa.txt    801  non-null values\n",
        "25nm_500ul.txt             801  non-null values\n",
        "dtypes: float64(3)"
       ]
      }
     ],
     "prompt_number": 12
    },
    {
     "cell_type": "code",
     "collapsed": false,
     "input": [
      "sortedcols=['25nm_250ul.txt', '25nm_250ul_200ulbsa.txt']\n",
      "df=df.reindex(columns=sortedcols)"
     ],
     "language": "python",
     "metadata": {},
     "outputs": [],
     "prompt_number": 13
    },
    {
     "cell_type": "code",
     "collapsed": false,
     "input": [
      "for item in df.columns:\n",
      "    df = df[np.isfinite(df[item])]\n",
      "#specplot(df,title='original_data', ylabel='Absorbance')\n",
      "a=df.plot(title='Original data_BSA aggregation',legend=False)\n",
      "a.set_ylabel('Absorbance')\n",
      "a.set_xlabel('Wavelength')"
     ],
     "language": "python",
     "metadata": {},
     "outputs": [
      {
       "output_type": "pyout",
       "prompt_number": 14,
       "text": [
        "<matplotlib.text.Text at 0xa6e24cc>"
       ]
      },
      {
       "output_type": "display_data",
       "png": "[encoded data removed]"
      }
     ],
     "prompt_number": 14
    },
    {
     "cell_type": "code",
     "collapsed": false,
     "input": [],
     "language": "python",
     "metadata": {},
     "outputs": [],
     "prompt_number": 14
    }
   ],
   "metadata": {}
  }
 ]
}